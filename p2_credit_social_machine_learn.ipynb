{
 "cells": [
  {
   "cell_type": "code",
   "execution_count": 1,
   "id": "48291512-8aa5-4d0e-bf9e-09eebc40c3a4",
   "metadata": {},
   "outputs": [],
   "source": [
    " # Initial imports\n",
    "import pandas as pd\n",
    "from pathlib import Path\n",
    "from sklearn.ensemble import RandomForestClassifier\n",
    "from sklearn.preprocessing import StandardScaler\n",
    "from sklearn.model_selection import train_test_split\n",
    "from sklearn.metrics import confusion_matrix, accuracy_score, classification_report\n",
    "import numpy as np"
   ]
  },
  {
   "cell_type": "code",
   "execution_count": 2,
   "id": "36607f76-cae6-4fe2-980e-f48322ec5dab",
   "metadata": {},
   "outputs": [],
   "source": [
    " # Read the credit data file into a Pandas DataFrame\n",
    "credit_data=Path(\"/Resources/credit_dataset_ML5b.csv\")\n",
    "    \n",
    "credit_df=pd.read_csv(credit_data, low_memory=False)"
   ]
  },
  {
   "cell_type": "code",
   "execution_count": 3,
   "id": "fb417e89-4234-4a8f-bfd6-f904d1928acf",
   "metadata": {},
   "outputs": [
    {
     "data": {
      "text/html": [
       "<div>\n",
       "<style scoped>\n",
       "    .dataframe tbody tr th:only-of-type {\n",
       "        vertical-align: middle;\n",
       "    }\n",
       "\n",
       "    .dataframe tbody tr th {\n",
       "        vertical-align: top;\n",
       "    }\n",
       "\n",
       "    .dataframe thead th {\n",
       "        text-align: right;\n",
       "    }\n",
       "</style>\n",
       "<table border=\"1\" class=\"dataframe\">\n",
       "  <thead>\n",
       "    <tr style=\"text-align: right;\">\n",
       "      <th></th>\n",
       "      <th>GENDER</th>\n",
       "      <th>CAR</th>\n",
       "      <th>INCOME_TYPE</th>\n",
       "      <th>EDUCATION_TYPE</th>\n",
       "      <th>FAMILY_TYPE</th>\n",
       "      <th>HOUSE_TYPE</th>\n",
       "      <th>FAMILY SIZE</th>\n",
       "      <th>AGE</th>\n",
       "      <th>INCOME</th>\n",
       "      <th>SOCIAL_STABILITY</th>\n",
       "      <th>SOCIAL_EXPOSURE</th>\n",
       "      <th>SOCIAL_QUALITY</th>\n",
       "      <th>LOAN_SOCIAL_VAR</th>\n",
       "      <th>LOAN_APPROVAL</th>\n",
       "    </tr>\n",
       "  </thead>\n",
       "  <tbody>\n",
       "    <tr>\n",
       "      <th>0</th>\n",
       "      <td>M</td>\n",
       "      <td>Y</td>\n",
       "      <td>Working</td>\n",
       "      <td>Secondary / secondary special</td>\n",
       "      <td>Married</td>\n",
       "      <td>House / apartment</td>\n",
       "      <td>2</td>\n",
       "      <td>59</td>\n",
       "      <td>57583</td>\n",
       "      <td>0.32</td>\n",
       "      <td>0.12</td>\n",
       "      <td>0.87</td>\n",
       "      <td>0.033408</td>\n",
       "      <td>1</td>\n",
       "    </tr>\n",
       "    <tr>\n",
       "      <th>1</th>\n",
       "      <td>F</td>\n",
       "      <td>N</td>\n",
       "      <td>Commercial associate</td>\n",
       "      <td>Secondary / secondary special</td>\n",
       "      <td>Single / not married</td>\n",
       "      <td>House / apartment</td>\n",
       "      <td>1</td>\n",
       "      <td>52</td>\n",
       "      <td>26317</td>\n",
       "      <td>0.32</td>\n",
       "      <td>0.56</td>\n",
       "      <td>0.10</td>\n",
       "      <td>0.017920</td>\n",
       "      <td>0</td>\n",
       "    </tr>\n",
       "    <tr>\n",
       "      <th>2</th>\n",
       "      <td>F</td>\n",
       "      <td>N</td>\n",
       "      <td>Commercial associate</td>\n",
       "      <td>Secondary / secondary special</td>\n",
       "      <td>Single / not married</td>\n",
       "      <td>House / apartment</td>\n",
       "      <td>1</td>\n",
       "      <td>52</td>\n",
       "      <td>20458</td>\n",
       "      <td>0.31</td>\n",
       "      <td>0.21</td>\n",
       "      <td>0.03</td>\n",
       "      <td>0.001953</td>\n",
       "      <td>0</td>\n",
       "    </tr>\n",
       "    <tr>\n",
       "      <th>3</th>\n",
       "      <td>F</td>\n",
       "      <td>N</td>\n",
       "      <td>Commercial associate</td>\n",
       "      <td>Secondary / secondary special</td>\n",
       "      <td>Single / not married</td>\n",
       "      <td>House / apartment</td>\n",
       "      <td>1</td>\n",
       "      <td>52</td>\n",
       "      <td>29275</td>\n",
       "      <td>0.31</td>\n",
       "      <td>0.11</td>\n",
       "      <td>0.87</td>\n",
       "      <td>0.029667</td>\n",
       "      <td>0</td>\n",
       "    </tr>\n",
       "    <tr>\n",
       "      <th>4</th>\n",
       "      <td>F</td>\n",
       "      <td>N</td>\n",
       "      <td>Commercial associate</td>\n",
       "      <td>Secondary / secondary special</td>\n",
       "      <td>Single / not married</td>\n",
       "      <td>House / apartment</td>\n",
       "      <td>1</td>\n",
       "      <td>52</td>\n",
       "      <td>41992</td>\n",
       "      <td>0.32</td>\n",
       "      <td>0.12</td>\n",
       "      <td>0.10</td>\n",
       "      <td>0.003840</td>\n",
       "      <td>1</td>\n",
       "    </tr>\n",
       "  </tbody>\n",
       "</table>\n",
       "</div>"
      ],
      "text/plain": [
       "  GENDER CAR           INCOME_TYPE                 EDUCATION_TYPE  \\\n",
       "0      M   Y               Working  Secondary / secondary special   \n",
       "1      F   N  Commercial associate  Secondary / secondary special   \n",
       "2      F   N  Commercial associate  Secondary / secondary special   \n",
       "3      F   N  Commercial associate  Secondary / secondary special   \n",
       "4      F   N  Commercial associate  Secondary / secondary special   \n",
       "\n",
       "            FAMILY_TYPE         HOUSE_TYPE  FAMILY SIZE  AGE  INCOME  \\\n",
       "0               Married  House / apartment            2   59   57583   \n",
       "1  Single / not married  House / apartment            1   52   26317   \n",
       "2  Single / not married  House / apartment            1   52   20458   \n",
       "3  Single / not married  House / apartment            1   52   29275   \n",
       "4  Single / not married  House / apartment            1   52   41992   \n",
       "\n",
       "   SOCIAL_STABILITY  SOCIAL_EXPOSURE  SOCIAL_QUALITY  LOAN_SOCIAL_VAR  \\\n",
       "0              0.32             0.12            0.87         0.033408   \n",
       "1              0.32             0.56            0.10         0.017920   \n",
       "2              0.31             0.21            0.03         0.001953   \n",
       "3              0.31             0.11            0.87         0.029667   \n",
       "4              0.32             0.12            0.10         0.003840   \n",
       "\n",
       "   LOAN_APPROVAL  \n",
       "0              1  \n",
       "1              0  \n",
       "2              0  \n",
       "3              0  \n",
       "4              1  "
      ]
     },
     "execution_count": 3,
     "metadata": {},
     "output_type": "execute_result"
    }
   ],
   "source": [
    "credit_df.head()"
   ]
  },
  {
   "cell_type": "code",
   "execution_count": 4,
   "id": "6bc9b0b6-4de9-41d7-b617-71a62e21aecc",
   "metadata": {},
   "outputs": [],
   "source": [
    "credit_df = credit_df.dropna().copy()"
   ]
  },
  {
   "cell_type": "code",
   "execution_count": 5,
   "id": "dd47d78e-46a2-480f-b5c0-2e3b8d54b180",
   "metadata": {},
   "outputs": [
    {
     "data": {
      "text/html": [
       "<div>\n",
       "<style scoped>\n",
       "    .dataframe tbody tr th:only-of-type {\n",
       "        vertical-align: middle;\n",
       "    }\n",
       "\n",
       "    .dataframe tbody tr th {\n",
       "        vertical-align: top;\n",
       "    }\n",
       "\n",
       "    .dataframe thead th {\n",
       "        text-align: right;\n",
       "    }\n",
       "</style>\n",
       "<table border=\"1\" class=\"dataframe\">\n",
       "  <thead>\n",
       "    <tr style=\"text-align: right;\">\n",
       "      <th></th>\n",
       "      <th>GENDER</th>\n",
       "      <th>CAR</th>\n",
       "      <th>INCOME_TYPE</th>\n",
       "      <th>EDUCATION_TYPE</th>\n",
       "      <th>FAMILY_TYPE</th>\n",
       "      <th>HOUSE_TYPE</th>\n",
       "      <th>FAMILY SIZE</th>\n",
       "      <th>AGE</th>\n",
       "      <th>INCOME</th>\n",
       "      <th>SOCIAL_STABILITY</th>\n",
       "      <th>SOCIAL_EXPOSURE</th>\n",
       "      <th>SOCIAL_QUALITY</th>\n",
       "      <th>LOAN_SOCIAL_VAR</th>\n",
       "      <th>LOAN_APPROVAL</th>\n",
       "    </tr>\n",
       "  </thead>\n",
       "  <tbody>\n",
       "    <tr>\n",
       "      <th>0</th>\n",
       "      <td>M</td>\n",
       "      <td>Y</td>\n",
       "      <td>Working</td>\n",
       "      <td>Secondary / secondary special</td>\n",
       "      <td>Married</td>\n",
       "      <td>House / apartment</td>\n",
       "      <td>2</td>\n",
       "      <td>59</td>\n",
       "      <td>57583</td>\n",
       "      <td>0.32</td>\n",
       "      <td>0.12</td>\n",
       "      <td>0.87</td>\n",
       "      <td>0.033408</td>\n",
       "      <td>1</td>\n",
       "    </tr>\n",
       "    <tr>\n",
       "      <th>1</th>\n",
       "      <td>F</td>\n",
       "      <td>N</td>\n",
       "      <td>Commercial associate</td>\n",
       "      <td>Secondary / secondary special</td>\n",
       "      <td>Single / not married</td>\n",
       "      <td>House / apartment</td>\n",
       "      <td>1</td>\n",
       "      <td>52</td>\n",
       "      <td>26317</td>\n",
       "      <td>0.32</td>\n",
       "      <td>0.56</td>\n",
       "      <td>0.10</td>\n",
       "      <td>0.017920</td>\n",
       "      <td>0</td>\n",
       "    </tr>\n",
       "    <tr>\n",
       "      <th>2</th>\n",
       "      <td>F</td>\n",
       "      <td>N</td>\n",
       "      <td>Commercial associate</td>\n",
       "      <td>Secondary / secondary special</td>\n",
       "      <td>Single / not married</td>\n",
       "      <td>House / apartment</td>\n",
       "      <td>1</td>\n",
       "      <td>52</td>\n",
       "      <td>20458</td>\n",
       "      <td>0.31</td>\n",
       "      <td>0.21</td>\n",
       "      <td>0.03</td>\n",
       "      <td>0.001953</td>\n",
       "      <td>0</td>\n",
       "    </tr>\n",
       "    <tr>\n",
       "      <th>3</th>\n",
       "      <td>F</td>\n",
       "      <td>N</td>\n",
       "      <td>Commercial associate</td>\n",
       "      <td>Secondary / secondary special</td>\n",
       "      <td>Single / not married</td>\n",
       "      <td>House / apartment</td>\n",
       "      <td>1</td>\n",
       "      <td>52</td>\n",
       "      <td>29275</td>\n",
       "      <td>0.31</td>\n",
       "      <td>0.11</td>\n",
       "      <td>0.87</td>\n",
       "      <td>0.029667</td>\n",
       "      <td>0</td>\n",
       "    </tr>\n",
       "    <tr>\n",
       "      <th>4</th>\n",
       "      <td>F</td>\n",
       "      <td>N</td>\n",
       "      <td>Commercial associate</td>\n",
       "      <td>Secondary / secondary special</td>\n",
       "      <td>Single / not married</td>\n",
       "      <td>House / apartment</td>\n",
       "      <td>1</td>\n",
       "      <td>52</td>\n",
       "      <td>41992</td>\n",
       "      <td>0.32</td>\n",
       "      <td>0.12</td>\n",
       "      <td>0.10</td>\n",
       "      <td>0.003840</td>\n",
       "      <td>1</td>\n",
       "    </tr>\n",
       "    <tr>\n",
       "      <th>...</th>\n",
       "      <td>...</td>\n",
       "      <td>...</td>\n",
       "      <td>...</td>\n",
       "      <td>...</td>\n",
       "      <td>...</td>\n",
       "      <td>...</td>\n",
       "      <td>...</td>\n",
       "      <td>...</td>\n",
       "      <td>...</td>\n",
       "      <td>...</td>\n",
       "      <td>...</td>\n",
       "      <td>...</td>\n",
       "      <td>...</td>\n",
       "      <td>...</td>\n",
       "    </tr>\n",
       "    <tr>\n",
       "      <th>11966</th>\n",
       "      <td>F</td>\n",
       "      <td>N</td>\n",
       "      <td>State servant</td>\n",
       "      <td>Secondary / secondary special</td>\n",
       "      <td>Married</td>\n",
       "      <td>House / apartment</td>\n",
       "      <td>2</td>\n",
       "      <td>52</td>\n",
       "      <td>25200</td>\n",
       "      <td>0.31</td>\n",
       "      <td>0.21</td>\n",
       "      <td>0.03</td>\n",
       "      <td>0.032364</td>\n",
       "      <td>0</td>\n",
       "    </tr>\n",
       "    <tr>\n",
       "      <th>11967</th>\n",
       "      <td>F</td>\n",
       "      <td>N</td>\n",
       "      <td>State servant</td>\n",
       "      <td>Secondary / secondary special</td>\n",
       "      <td>Married</td>\n",
       "      <td>House / apartment</td>\n",
       "      <td>2</td>\n",
       "      <td>52</td>\n",
       "      <td>45946</td>\n",
       "      <td>0.31</td>\n",
       "      <td>0.11</td>\n",
       "      <td>0.87</td>\n",
       "      <td>0.017360</td>\n",
       "      <td>1</td>\n",
       "    </tr>\n",
       "    <tr>\n",
       "      <th>11968</th>\n",
       "      <td>F</td>\n",
       "      <td>N</td>\n",
       "      <td>State servant</td>\n",
       "      <td>Secondary / secondary special</td>\n",
       "      <td>Married</td>\n",
       "      <td>House / apartment</td>\n",
       "      <td>2</td>\n",
       "      <td>52</td>\n",
       "      <td>21751</td>\n",
       "      <td>0.32</td>\n",
       "      <td>0.12</td>\n",
       "      <td>0.10</td>\n",
       "      <td>0.001953</td>\n",
       "      <td>0</td>\n",
       "    </tr>\n",
       "    <tr>\n",
       "      <th>11969</th>\n",
       "      <td>F</td>\n",
       "      <td>N</td>\n",
       "      <td>State servant</td>\n",
       "      <td>Secondary / secondary special</td>\n",
       "      <td>Married</td>\n",
       "      <td>House / apartment</td>\n",
       "      <td>2</td>\n",
       "      <td>52</td>\n",
       "      <td>58791</td>\n",
       "      <td>0.37</td>\n",
       "      <td>0.56</td>\n",
       "      <td>0.03</td>\n",
       "      <td>0.029667</td>\n",
       "      <td>1</td>\n",
       "    </tr>\n",
       "    <tr>\n",
       "      <th>11970</th>\n",
       "      <td>F</td>\n",
       "      <td>N</td>\n",
       "      <td>State servant</td>\n",
       "      <td>Secondary / secondary special</td>\n",
       "      <td>Married</td>\n",
       "      <td>House / apartment</td>\n",
       "      <td>2</td>\n",
       "      <td>52</td>\n",
       "      <td>23161</td>\n",
       "      <td>0.37</td>\n",
       "      <td>0.21</td>\n",
       "      <td>0.87</td>\n",
       "      <td>0.003720</td>\n",
       "      <td>0</td>\n",
       "    </tr>\n",
       "  </tbody>\n",
       "</table>\n",
       "<p>11971 rows × 14 columns</p>\n",
       "</div>"
      ],
      "text/plain": [
       "      GENDER CAR           INCOME_TYPE                 EDUCATION_TYPE  \\\n",
       "0          M   Y               Working  Secondary / secondary special   \n",
       "1          F   N  Commercial associate  Secondary / secondary special   \n",
       "2          F   N  Commercial associate  Secondary / secondary special   \n",
       "3          F   N  Commercial associate  Secondary / secondary special   \n",
       "4          F   N  Commercial associate  Secondary / secondary special   \n",
       "...      ...  ..                   ...                            ...   \n",
       "11966      F   N         State servant  Secondary / secondary special   \n",
       "11967      F   N         State servant  Secondary / secondary special   \n",
       "11968      F   N         State servant  Secondary / secondary special   \n",
       "11969      F   N         State servant  Secondary / secondary special   \n",
       "11970      F   N         State servant  Secondary / secondary special   \n",
       "\n",
       "                FAMILY_TYPE         HOUSE_TYPE  FAMILY SIZE  AGE  INCOME  \\\n",
       "0                   Married  House / apartment            2   59   57583   \n",
       "1      Single / not married  House / apartment            1   52   26317   \n",
       "2      Single / not married  House / apartment            1   52   20458   \n",
       "3      Single / not married  House / apartment            1   52   29275   \n",
       "4      Single / not married  House / apartment            1   52   41992   \n",
       "...                     ...                ...          ...  ...     ...   \n",
       "11966               Married  House / apartment            2   52   25200   \n",
       "11967               Married  House / apartment            2   52   45946   \n",
       "11968               Married  House / apartment            2   52   21751   \n",
       "11969               Married  House / apartment            2   52   58791   \n",
       "11970               Married  House / apartment            2   52   23161   \n",
       "\n",
       "       SOCIAL_STABILITY  SOCIAL_EXPOSURE  SOCIAL_QUALITY  LOAN_SOCIAL_VAR  \\\n",
       "0                  0.32             0.12            0.87         0.033408   \n",
       "1                  0.32             0.56            0.10         0.017920   \n",
       "2                  0.31             0.21            0.03         0.001953   \n",
       "3                  0.31             0.11            0.87         0.029667   \n",
       "4                  0.32             0.12            0.10         0.003840   \n",
       "...                 ...              ...             ...              ...   \n",
       "11966              0.31             0.21            0.03         0.032364   \n",
       "11967              0.31             0.11            0.87         0.017360   \n",
       "11968              0.32             0.12            0.10         0.001953   \n",
       "11969              0.37             0.56            0.03         0.029667   \n",
       "11970              0.37             0.21            0.87         0.003720   \n",
       "\n",
       "       LOAN_APPROVAL  \n",
       "0                  1  \n",
       "1                  0  \n",
       "2                  0  \n",
       "3                  0  \n",
       "4                  1  \n",
       "...              ...  \n",
       "11966              0  \n",
       "11967              1  \n",
       "11968              0  \n",
       "11969              1  \n",
       "11970              0  \n",
       "\n",
       "[11971 rows x 14 columns]"
      ]
     },
     "execution_count": 5,
     "metadata": {},
     "output_type": "execute_result"
    }
   ],
   "source": [
    "credit_df"
   ]
  },
  {
   "cell_type": "code",
   "execution_count": 6,
   "id": "3ef99f53-d3c3-474b-a6bf-e5099cd9a39e",
   "metadata": {},
   "outputs": [
    {
     "data": {
      "text/plain": [
       "GENDER               object\n",
       "CAR                  object\n",
       "INCOME_TYPE          object\n",
       "EDUCATION_TYPE       object\n",
       "FAMILY_TYPE          object\n",
       "HOUSE_TYPE           object\n",
       "FAMILY SIZE           int64\n",
       "AGE                   int64\n",
       "INCOME                int64\n",
       "SOCIAL_STABILITY    float64\n",
       "SOCIAL_EXPOSURE     float64\n",
       "SOCIAL_QUALITY      float64\n",
       "LOAN_SOCIAL_VAR     float64\n",
       "LOAN_APPROVAL         int64\n",
       "dtype: object"
      ]
     },
     "execution_count": 6,
     "metadata": {},
     "output_type": "execute_result"
    }
   ],
   "source": [
    "# Review the data types associated with the columns\n",
    "credit_df.dtypes"
   ]
  },
  {
   "cell_type": "code",
   "execution_count": 7,
   "id": "bcacc51e-6315-4100-8e24-22e75925ae4f",
   "metadata": {},
   "outputs": [],
   "source": [
    "credit_df[\"LOAN_APPROVAL\"] = credit_df[\"LOAN_APPROVAL\"].astype('object')"
   ]
  },
  {
   "cell_type": "code",
   "execution_count": 8,
   "id": "a5a2ea97-232f-4517-8270-49f73f6e4354",
   "metadata": {},
   "outputs": [
    {
     "data": {
      "text/plain": [
       "GENDER               object\n",
       "CAR                  object\n",
       "INCOME_TYPE          object\n",
       "EDUCATION_TYPE       object\n",
       "FAMILY_TYPE          object\n",
       "HOUSE_TYPE           object\n",
       "FAMILY SIZE           int64\n",
       "AGE                   int64\n",
       "INCOME                int64\n",
       "SOCIAL_STABILITY    float64\n",
       "SOCIAL_EXPOSURE     float64\n",
       "SOCIAL_QUALITY      float64\n",
       "LOAN_SOCIAL_VAR     float64\n",
       "LOAN_APPROVAL        object\n",
       "dtype: object"
      ]
     },
     "execution_count": 8,
     "metadata": {},
     "output_type": "execute_result"
    }
   ],
   "source": [
    "credit_df.dtypes"
   ]
  },
  {
   "cell_type": "code",
   "execution_count": 9,
   "id": "fa23d09f-4aee-4323-be4c-888096211ccc",
   "metadata": {},
   "outputs": [
    {
     "data": {
      "text/plain": [
       "['GENDER',\n",
       " 'CAR',\n",
       " 'INCOME_TYPE',\n",
       " 'EDUCATION_TYPE',\n",
       " 'FAMILY_TYPE',\n",
       " 'HOUSE_TYPE',\n",
       " 'LOAN_APPROVAL']"
      ]
     },
     "execution_count": 9,
     "metadata": {},
     "output_type": "execute_result"
    }
   ],
   "source": [
    "# Create a list of categorical variables \n",
    "categorical_variables = list(credit_df.dtypes[credit_df.dtypes == \"object\"].index)\n",
    "\n",
    "# Display the categorical variables list\n",
    "categorical_variables"
   ]
  },
  {
   "cell_type": "code",
   "execution_count": 10,
   "id": "1d7c9151-29e1-449f-8b48-d1c9a075b4e1",
   "metadata": {},
   "outputs": [],
   "source": [
    "# Imports\n",
    "from sklearn.preprocessing import OneHotEncoder"
   ]
  },
  {
   "cell_type": "code",
   "execution_count": 11,
   "id": "c5bdbf15-c340-42fb-acb1-04e64bc5969b",
   "metadata": {},
   "outputs": [],
   "source": [
    "# Create a OneHotEncoder instance\n",
    "enc = OneHotEncoder(sparse=False)\n",
    "\n",
    "# Encode categorcal variables using OneHotEncoder\n",
    "encoded_data = enc.fit_transform(credit_df[categorical_variables])"
   ]
  },
  {
   "cell_type": "code",
   "execution_count": 12,
   "id": "3dc82129-49b8-45bf-8b41-ffc006794e7f",
   "metadata": {},
   "outputs": [
    {
     "name": "stderr",
     "output_type": "stream",
     "text": [
      "C:\\Users\\owner\\anaconda3\\envs\\mlenv\\lib\\site-packages\\sklearn\\utils\\deprecation.py:87: FutureWarning: Function get_feature_names is deprecated; get_feature_names is deprecated in 1.0 and will be removed in 1.2. Please use get_feature_names_out instead.\n",
      "  warnings.warn(msg, category=FutureWarning)\n"
     ]
    },
    {
     "data": {
      "text/html": [
       "<div>\n",
       "<style scoped>\n",
       "    .dataframe tbody tr th:only-of-type {\n",
       "        vertical-align: middle;\n",
       "    }\n",
       "\n",
       "    .dataframe tbody tr th {\n",
       "        vertical-align: top;\n",
       "    }\n",
       "\n",
       "    .dataframe thead th {\n",
       "        text-align: right;\n",
       "    }\n",
       "</style>\n",
       "<table border=\"1\" class=\"dataframe\">\n",
       "  <thead>\n",
       "    <tr style=\"text-align: right;\">\n",
       "      <th></th>\n",
       "      <th>GENDER_F</th>\n",
       "      <th>GENDER_M</th>\n",
       "      <th>CAR_N</th>\n",
       "      <th>CAR_Y</th>\n",
       "      <th>INCOME_TYPE_Commercial associate</th>\n",
       "      <th>INCOME_TYPE_State servant</th>\n",
       "      <th>INCOME_TYPE_Student</th>\n",
       "      <th>INCOME_TYPE_Working</th>\n",
       "      <th>EDUCATION_TYPE_Academic degree</th>\n",
       "      <th>EDUCATION_TYPE_Higher education</th>\n",
       "      <th>...</th>\n",
       "      <th>FAMILY_TYPE_Unmarried</th>\n",
       "      <th>FAMILY_TYPE_Widow</th>\n",
       "      <th>HOUSE_TYPE_Co-op apartment</th>\n",
       "      <th>HOUSE_TYPE_House / apartment</th>\n",
       "      <th>HOUSE_TYPE_Municipal apartment</th>\n",
       "      <th>HOUSE_TYPE_Office apartment</th>\n",
       "      <th>HOUSE_TYPE_Rented apartment</th>\n",
       "      <th>HOUSE_TYPE_With parents</th>\n",
       "      <th>LOAN_APPROVAL_0</th>\n",
       "      <th>LOAN_APPROVAL_1</th>\n",
       "    </tr>\n",
       "  </thead>\n",
       "  <tbody>\n",
       "    <tr>\n",
       "      <th>0</th>\n",
       "      <td>0.0</td>\n",
       "      <td>1.0</td>\n",
       "      <td>0.0</td>\n",
       "      <td>1.0</td>\n",
       "      <td>0.0</td>\n",
       "      <td>0.0</td>\n",
       "      <td>0.0</td>\n",
       "      <td>1.0</td>\n",
       "      <td>0.0</td>\n",
       "      <td>0.0</td>\n",
       "      <td>...</td>\n",
       "      <td>0.0</td>\n",
       "      <td>0.0</td>\n",
       "      <td>0.0</td>\n",
       "      <td>1.0</td>\n",
       "      <td>0.0</td>\n",
       "      <td>0.0</td>\n",
       "      <td>0.0</td>\n",
       "      <td>0.0</td>\n",
       "      <td>0.0</td>\n",
       "      <td>1.0</td>\n",
       "    </tr>\n",
       "    <tr>\n",
       "      <th>1</th>\n",
       "      <td>1.0</td>\n",
       "      <td>0.0</td>\n",
       "      <td>1.0</td>\n",
       "      <td>0.0</td>\n",
       "      <td>1.0</td>\n",
       "      <td>0.0</td>\n",
       "      <td>0.0</td>\n",
       "      <td>0.0</td>\n",
       "      <td>0.0</td>\n",
       "      <td>0.0</td>\n",
       "      <td>...</td>\n",
       "      <td>0.0</td>\n",
       "      <td>0.0</td>\n",
       "      <td>0.0</td>\n",
       "      <td>1.0</td>\n",
       "      <td>0.0</td>\n",
       "      <td>0.0</td>\n",
       "      <td>0.0</td>\n",
       "      <td>0.0</td>\n",
       "      <td>1.0</td>\n",
       "      <td>0.0</td>\n",
       "    </tr>\n",
       "    <tr>\n",
       "      <th>2</th>\n",
       "      <td>1.0</td>\n",
       "      <td>0.0</td>\n",
       "      <td>1.0</td>\n",
       "      <td>0.0</td>\n",
       "      <td>1.0</td>\n",
       "      <td>0.0</td>\n",
       "      <td>0.0</td>\n",
       "      <td>0.0</td>\n",
       "      <td>0.0</td>\n",
       "      <td>0.0</td>\n",
       "      <td>...</td>\n",
       "      <td>0.0</td>\n",
       "      <td>0.0</td>\n",
       "      <td>0.0</td>\n",
       "      <td>1.0</td>\n",
       "      <td>0.0</td>\n",
       "      <td>0.0</td>\n",
       "      <td>0.0</td>\n",
       "      <td>0.0</td>\n",
       "      <td>1.0</td>\n",
       "      <td>0.0</td>\n",
       "    </tr>\n",
       "    <tr>\n",
       "      <th>3</th>\n",
       "      <td>1.0</td>\n",
       "      <td>0.0</td>\n",
       "      <td>1.0</td>\n",
       "      <td>0.0</td>\n",
       "      <td>1.0</td>\n",
       "      <td>0.0</td>\n",
       "      <td>0.0</td>\n",
       "      <td>0.0</td>\n",
       "      <td>0.0</td>\n",
       "      <td>0.0</td>\n",
       "      <td>...</td>\n",
       "      <td>0.0</td>\n",
       "      <td>0.0</td>\n",
       "      <td>0.0</td>\n",
       "      <td>1.0</td>\n",
       "      <td>0.0</td>\n",
       "      <td>0.0</td>\n",
       "      <td>0.0</td>\n",
       "      <td>0.0</td>\n",
       "      <td>1.0</td>\n",
       "      <td>0.0</td>\n",
       "    </tr>\n",
       "    <tr>\n",
       "      <th>4</th>\n",
       "      <td>1.0</td>\n",
       "      <td>0.0</td>\n",
       "      <td>1.0</td>\n",
       "      <td>0.0</td>\n",
       "      <td>1.0</td>\n",
       "      <td>0.0</td>\n",
       "      <td>0.0</td>\n",
       "      <td>0.0</td>\n",
       "      <td>0.0</td>\n",
       "      <td>0.0</td>\n",
       "      <td>...</td>\n",
       "      <td>0.0</td>\n",
       "      <td>0.0</td>\n",
       "      <td>0.0</td>\n",
       "      <td>1.0</td>\n",
       "      <td>0.0</td>\n",
       "      <td>0.0</td>\n",
       "      <td>0.0</td>\n",
       "      <td>0.0</td>\n",
       "      <td>0.0</td>\n",
       "      <td>1.0</td>\n",
       "    </tr>\n",
       "  </tbody>\n",
       "</table>\n",
       "<p>5 rows × 26 columns</p>\n",
       "</div>"
      ],
      "text/plain": [
       "   GENDER_F  GENDER_M  CAR_N  CAR_Y  INCOME_TYPE_Commercial associate  \\\n",
       "0       0.0       1.0    0.0    1.0                               0.0   \n",
       "1       1.0       0.0    1.0    0.0                               1.0   \n",
       "2       1.0       0.0    1.0    0.0                               1.0   \n",
       "3       1.0       0.0    1.0    0.0                               1.0   \n",
       "4       1.0       0.0    1.0    0.0                               1.0   \n",
       "\n",
       "   INCOME_TYPE_State servant  INCOME_TYPE_Student  INCOME_TYPE_Working  \\\n",
       "0                        0.0                  0.0                  1.0   \n",
       "1                        0.0                  0.0                  0.0   \n",
       "2                        0.0                  0.0                  0.0   \n",
       "3                        0.0                  0.0                  0.0   \n",
       "4                        0.0                  0.0                  0.0   \n",
       "\n",
       "   EDUCATION_TYPE_Academic degree  EDUCATION_TYPE_Higher education  ...  \\\n",
       "0                             0.0                              0.0  ...   \n",
       "1                             0.0                              0.0  ...   \n",
       "2                             0.0                              0.0  ...   \n",
       "3                             0.0                              0.0  ...   \n",
       "4                             0.0                              0.0  ...   \n",
       "\n",
       "   FAMILY_TYPE_Unmarried  FAMILY_TYPE_Widow  HOUSE_TYPE_Co-op apartment  \\\n",
       "0                    0.0                0.0                         0.0   \n",
       "1                    0.0                0.0                         0.0   \n",
       "2                    0.0                0.0                         0.0   \n",
       "3                    0.0                0.0                         0.0   \n",
       "4                    0.0                0.0                         0.0   \n",
       "\n",
       "   HOUSE_TYPE_House / apartment  HOUSE_TYPE_Municipal apartment  \\\n",
       "0                           1.0                             0.0   \n",
       "1                           1.0                             0.0   \n",
       "2                           1.0                             0.0   \n",
       "3                           1.0                             0.0   \n",
       "4                           1.0                             0.0   \n",
       "\n",
       "   HOUSE_TYPE_Office apartment  HOUSE_TYPE_Rented apartment  \\\n",
       "0                          0.0                          0.0   \n",
       "1                          0.0                          0.0   \n",
       "2                          0.0                          0.0   \n",
       "3                          0.0                          0.0   \n",
       "4                          0.0                          0.0   \n",
       "\n",
       "   HOUSE_TYPE_With parents  LOAN_APPROVAL_0  LOAN_APPROVAL_1  \n",
       "0                      0.0              0.0              1.0  \n",
       "1                      0.0              1.0              0.0  \n",
       "2                      0.0              1.0              0.0  \n",
       "3                      0.0              1.0              0.0  \n",
       "4                      0.0              0.0              1.0  \n",
       "\n",
       "[5 rows x 26 columns]"
      ]
     },
     "execution_count": 12,
     "metadata": {},
     "output_type": "execute_result"
    }
   ],
   "source": [
    "# Create a DataFrame with the encoded variables\n",
    "# The column names should match those of the encoded variables\n",
    "encoded_df = pd.DataFrame(\n",
    "    encoded_data,\n",
    "    columns = enc.get_feature_names(categorical_variables)\n",
    ")\n",
    "\n",
    "# Display the DataFrame\n",
    "encoded_df.head()"
   ]
  },
  {
   "cell_type": "code",
   "execution_count": 13,
   "id": "92fbc933-616a-4c8a-8fc2-591e6a1ba850",
   "metadata": {},
   "outputs": [
    {
     "data": {
      "text/html": [
       "<div>\n",
       "<style scoped>\n",
       "    .dataframe tbody tr th:only-of-type {\n",
       "        vertical-align: middle;\n",
       "    }\n",
       "\n",
       "    .dataframe tbody tr th {\n",
       "        vertical-align: top;\n",
       "    }\n",
       "\n",
       "    .dataframe thead th {\n",
       "        text-align: right;\n",
       "    }\n",
       "</style>\n",
       "<table border=\"1\" class=\"dataframe\">\n",
       "  <thead>\n",
       "    <tr style=\"text-align: right;\">\n",
       "      <th></th>\n",
       "      <th>FAMILY SIZE</th>\n",
       "      <th>AGE</th>\n",
       "      <th>INCOME</th>\n",
       "      <th>SOCIAL_STABILITY</th>\n",
       "      <th>SOCIAL_EXPOSURE</th>\n",
       "      <th>SOCIAL_QUALITY</th>\n",
       "      <th>LOAN_SOCIAL_VAR</th>\n",
       "    </tr>\n",
       "  </thead>\n",
       "  <tbody>\n",
       "    <tr>\n",
       "      <th>0</th>\n",
       "      <td>2</td>\n",
       "      <td>59</td>\n",
       "      <td>57583</td>\n",
       "      <td>0.32</td>\n",
       "      <td>0.12</td>\n",
       "      <td>0.87</td>\n",
       "      <td>0.033408</td>\n",
       "    </tr>\n",
       "    <tr>\n",
       "      <th>1</th>\n",
       "      <td>1</td>\n",
       "      <td>52</td>\n",
       "      <td>26317</td>\n",
       "      <td>0.32</td>\n",
       "      <td>0.56</td>\n",
       "      <td>0.10</td>\n",
       "      <td>0.017920</td>\n",
       "    </tr>\n",
       "    <tr>\n",
       "      <th>2</th>\n",
       "      <td>1</td>\n",
       "      <td>52</td>\n",
       "      <td>20458</td>\n",
       "      <td>0.31</td>\n",
       "      <td>0.21</td>\n",
       "      <td>0.03</td>\n",
       "      <td>0.001953</td>\n",
       "    </tr>\n",
       "    <tr>\n",
       "      <th>3</th>\n",
       "      <td>1</td>\n",
       "      <td>52</td>\n",
       "      <td>29275</td>\n",
       "      <td>0.31</td>\n",
       "      <td>0.11</td>\n",
       "      <td>0.87</td>\n",
       "      <td>0.029667</td>\n",
       "    </tr>\n",
       "    <tr>\n",
       "      <th>4</th>\n",
       "      <td>1</td>\n",
       "      <td>52</td>\n",
       "      <td>41992</td>\n",
       "      <td>0.32</td>\n",
       "      <td>0.12</td>\n",
       "      <td>0.10</td>\n",
       "      <td>0.003840</td>\n",
       "    </tr>\n",
       "  </tbody>\n",
       "</table>\n",
       "</div>"
      ],
      "text/plain": [
       "   FAMILY SIZE  AGE  INCOME  SOCIAL_STABILITY  SOCIAL_EXPOSURE  \\\n",
       "0            2   59   57583              0.32             0.12   \n",
       "1            1   52   26317              0.32             0.56   \n",
       "2            1   52   20458              0.31             0.21   \n",
       "3            1   52   29275              0.31             0.11   \n",
       "4            1   52   41992              0.32             0.12   \n",
       "\n",
       "   SOCIAL_QUALITY  LOAN_SOCIAL_VAR  \n",
       "0            0.87         0.033408  \n",
       "1            0.10         0.017920  \n",
       "2            0.03         0.001953  \n",
       "3            0.87         0.029667  \n",
       "4            0.10         0.003840  "
      ]
     },
     "execution_count": 13,
     "metadata": {},
     "output_type": "execute_result"
    }
   ],
   "source": [
    " # Create a DataFrame with the columnns containing numerical variables from the original dataset\n",
    "numerical_variables_df = credit_df.drop(columns = categorical_variables)\n",
    "\n",
    "# Review the DataFrame\n",
    "numerical_variables_df.head()"
   ]
  },
  {
   "cell_type": "code",
   "execution_count": 14,
   "id": "42450a54-53de-4fc0-aff8-e1b1b3708e4d",
   "metadata": {},
   "outputs": [
    {
     "data": {
      "text/html": [
       "<div>\n",
       "<style scoped>\n",
       "    .dataframe tbody tr th:only-of-type {\n",
       "        vertical-align: middle;\n",
       "    }\n",
       "\n",
       "    .dataframe tbody tr th {\n",
       "        vertical-align: top;\n",
       "    }\n",
       "\n",
       "    .dataframe thead th {\n",
       "        text-align: right;\n",
       "    }\n",
       "</style>\n",
       "<table border=\"1\" class=\"dataframe\">\n",
       "  <thead>\n",
       "    <tr style=\"text-align: right;\">\n",
       "      <th></th>\n",
       "      <th>FAMILY SIZE</th>\n",
       "      <th>AGE</th>\n",
       "      <th>INCOME</th>\n",
       "      <th>SOCIAL_STABILITY</th>\n",
       "      <th>SOCIAL_EXPOSURE</th>\n",
       "      <th>SOCIAL_QUALITY</th>\n",
       "      <th>LOAN_SOCIAL_VAR</th>\n",
       "      <th>GENDER_F</th>\n",
       "      <th>GENDER_M</th>\n",
       "      <th>CAR_N</th>\n",
       "      <th>...</th>\n",
       "      <th>FAMILY_TYPE_Unmarried</th>\n",
       "      <th>FAMILY_TYPE_Widow</th>\n",
       "      <th>HOUSE_TYPE_Co-op apartment</th>\n",
       "      <th>HOUSE_TYPE_House / apartment</th>\n",
       "      <th>HOUSE_TYPE_Municipal apartment</th>\n",
       "      <th>HOUSE_TYPE_Office apartment</th>\n",
       "      <th>HOUSE_TYPE_Rented apartment</th>\n",
       "      <th>HOUSE_TYPE_With parents</th>\n",
       "      <th>LOAN_APPROVAL_0</th>\n",
       "      <th>LOAN_APPROVAL_1</th>\n",
       "    </tr>\n",
       "  </thead>\n",
       "  <tbody>\n",
       "    <tr>\n",
       "      <th>0</th>\n",
       "      <td>2</td>\n",
       "      <td>59</td>\n",
       "      <td>57583</td>\n",
       "      <td>0.32</td>\n",
       "      <td>0.12</td>\n",
       "      <td>0.87</td>\n",
       "      <td>0.033408</td>\n",
       "      <td>0.0</td>\n",
       "      <td>1.0</td>\n",
       "      <td>0.0</td>\n",
       "      <td>...</td>\n",
       "      <td>0.0</td>\n",
       "      <td>0.0</td>\n",
       "      <td>0.0</td>\n",
       "      <td>1.0</td>\n",
       "      <td>0.0</td>\n",
       "      <td>0.0</td>\n",
       "      <td>0.0</td>\n",
       "      <td>0.0</td>\n",
       "      <td>0.0</td>\n",
       "      <td>1.0</td>\n",
       "    </tr>\n",
       "    <tr>\n",
       "      <th>1</th>\n",
       "      <td>1</td>\n",
       "      <td>52</td>\n",
       "      <td>26317</td>\n",
       "      <td>0.32</td>\n",
       "      <td>0.56</td>\n",
       "      <td>0.10</td>\n",
       "      <td>0.017920</td>\n",
       "      <td>1.0</td>\n",
       "      <td>0.0</td>\n",
       "      <td>1.0</td>\n",
       "      <td>...</td>\n",
       "      <td>0.0</td>\n",
       "      <td>0.0</td>\n",
       "      <td>0.0</td>\n",
       "      <td>1.0</td>\n",
       "      <td>0.0</td>\n",
       "      <td>0.0</td>\n",
       "      <td>0.0</td>\n",
       "      <td>0.0</td>\n",
       "      <td>1.0</td>\n",
       "      <td>0.0</td>\n",
       "    </tr>\n",
       "    <tr>\n",
       "      <th>2</th>\n",
       "      <td>1</td>\n",
       "      <td>52</td>\n",
       "      <td>20458</td>\n",
       "      <td>0.31</td>\n",
       "      <td>0.21</td>\n",
       "      <td>0.03</td>\n",
       "      <td>0.001953</td>\n",
       "      <td>1.0</td>\n",
       "      <td>0.0</td>\n",
       "      <td>1.0</td>\n",
       "      <td>...</td>\n",
       "      <td>0.0</td>\n",
       "      <td>0.0</td>\n",
       "      <td>0.0</td>\n",
       "      <td>1.0</td>\n",
       "      <td>0.0</td>\n",
       "      <td>0.0</td>\n",
       "      <td>0.0</td>\n",
       "      <td>0.0</td>\n",
       "      <td>1.0</td>\n",
       "      <td>0.0</td>\n",
       "    </tr>\n",
       "    <tr>\n",
       "      <th>3</th>\n",
       "      <td>1</td>\n",
       "      <td>52</td>\n",
       "      <td>29275</td>\n",
       "      <td>0.31</td>\n",
       "      <td>0.11</td>\n",
       "      <td>0.87</td>\n",
       "      <td>0.029667</td>\n",
       "      <td>1.0</td>\n",
       "      <td>0.0</td>\n",
       "      <td>1.0</td>\n",
       "      <td>...</td>\n",
       "      <td>0.0</td>\n",
       "      <td>0.0</td>\n",
       "      <td>0.0</td>\n",
       "      <td>1.0</td>\n",
       "      <td>0.0</td>\n",
       "      <td>0.0</td>\n",
       "      <td>0.0</td>\n",
       "      <td>0.0</td>\n",
       "      <td>1.0</td>\n",
       "      <td>0.0</td>\n",
       "    </tr>\n",
       "    <tr>\n",
       "      <th>4</th>\n",
       "      <td>1</td>\n",
       "      <td>52</td>\n",
       "      <td>41992</td>\n",
       "      <td>0.32</td>\n",
       "      <td>0.12</td>\n",
       "      <td>0.10</td>\n",
       "      <td>0.003840</td>\n",
       "      <td>1.0</td>\n",
       "      <td>0.0</td>\n",
       "      <td>1.0</td>\n",
       "      <td>...</td>\n",
       "      <td>0.0</td>\n",
       "      <td>0.0</td>\n",
       "      <td>0.0</td>\n",
       "      <td>1.0</td>\n",
       "      <td>0.0</td>\n",
       "      <td>0.0</td>\n",
       "      <td>0.0</td>\n",
       "      <td>0.0</td>\n",
       "      <td>0.0</td>\n",
       "      <td>1.0</td>\n",
       "    </tr>\n",
       "  </tbody>\n",
       "</table>\n",
       "<p>5 rows × 33 columns</p>\n",
       "</div>"
      ],
      "text/plain": [
       "   FAMILY SIZE  AGE  INCOME  SOCIAL_STABILITY  SOCIAL_EXPOSURE  \\\n",
       "0            2   59   57583              0.32             0.12   \n",
       "1            1   52   26317              0.32             0.56   \n",
       "2            1   52   20458              0.31             0.21   \n",
       "3            1   52   29275              0.31             0.11   \n",
       "4            1   52   41992              0.32             0.12   \n",
       "\n",
       "   SOCIAL_QUALITY  LOAN_SOCIAL_VAR  GENDER_F  GENDER_M  CAR_N  ...  \\\n",
       "0            0.87         0.033408       0.0       1.0    0.0  ...   \n",
       "1            0.10         0.017920       1.0       0.0    1.0  ...   \n",
       "2            0.03         0.001953       1.0       0.0    1.0  ...   \n",
       "3            0.87         0.029667       1.0       0.0    1.0  ...   \n",
       "4            0.10         0.003840       1.0       0.0    1.0  ...   \n",
       "\n",
       "   FAMILY_TYPE_Unmarried  FAMILY_TYPE_Widow  HOUSE_TYPE_Co-op apartment  \\\n",
       "0                    0.0                0.0                         0.0   \n",
       "1                    0.0                0.0                         0.0   \n",
       "2                    0.0                0.0                         0.0   \n",
       "3                    0.0                0.0                         0.0   \n",
       "4                    0.0                0.0                         0.0   \n",
       "\n",
       "   HOUSE_TYPE_House / apartment  HOUSE_TYPE_Municipal apartment  \\\n",
       "0                           1.0                             0.0   \n",
       "1                           1.0                             0.0   \n",
       "2                           1.0                             0.0   \n",
       "3                           1.0                             0.0   \n",
       "4                           1.0                             0.0   \n",
       "\n",
       "   HOUSE_TYPE_Office apartment  HOUSE_TYPE_Rented apartment  \\\n",
       "0                          0.0                          0.0   \n",
       "1                          0.0                          0.0   \n",
       "2                          0.0                          0.0   \n",
       "3                          0.0                          0.0   \n",
       "4                          0.0                          0.0   \n",
       "\n",
       "   HOUSE_TYPE_With parents  LOAN_APPROVAL_0  LOAN_APPROVAL_1  \n",
       "0                      0.0              0.0              1.0  \n",
       "1                      0.0              1.0              0.0  \n",
       "2                      0.0              1.0              0.0  \n",
       "3                      0.0              1.0              0.0  \n",
       "4                      0.0              0.0              1.0  \n",
       "\n",
       "[5 rows x 33 columns]"
      ]
     },
     "execution_count": 14,
     "metadata": {},
     "output_type": "execute_result"
    }
   ],
   "source": [
    "# Using the Pandas concat function, combine the DataFrames the contain the encoded categorical data and the numerical data\n",
    "cc_df = pd.concat(\n",
    "    [\n",
    "        numerical_variables_df,\n",
    "        encoded_df\n",
    "    ],\n",
    "    axis=1\n",
    ")\n",
    "\n",
    "# Reveiw the DataFrame\n",
    "cc_df.head()"
   ]
  },
  {
   "cell_type": "code",
   "execution_count": null,
   "id": "3ce91620-4a86-4ca6-bca5-b9f35f6f6711",
   "metadata": {},
   "outputs": [],
   "source": []
  },
  {
   "cell_type": "code",
   "execution_count": null,
   "id": "d13b0f9e-337c-4491-9835-5a309d044dc6",
   "metadata": {},
   "outputs": [],
   "source": []
  },
  {
   "cell_type": "code",
   "execution_count": 15,
   "id": "74afe98a-da1a-4126-8f1d-715147c96e6f",
   "metadata": {},
   "outputs": [
    {
     "data": {
      "text/plain": [
       "array([[1.],\n",
       "       [0.],\n",
       "       [0.],\n",
       "       [0.],\n",
       "       [1.]])"
      ]
     },
     "execution_count": 15,
     "metadata": {},
     "output_type": "execute_result"
    }
   ],
   "source": [
    " # Define the target set y using the LOAN_APPROVAL_True column\n",
    "y = cc_df[\"LOAN_APPROVAL_1\"].values.reshape(-1,1)\n",
    "\n",
    "# Display a sample of y\n",
    "y[:5]"
   ]
  },
  {
   "cell_type": "code",
   "execution_count": 16,
   "id": "941b121d-8026-4fef-a9f0-5d369a537050",
   "metadata": {},
   "outputs": [
    {
     "data": {
      "text/html": [
       "<div>\n",
       "<style scoped>\n",
       "    .dataframe tbody tr th:only-of-type {\n",
       "        vertical-align: middle;\n",
       "    }\n",
       "\n",
       "    .dataframe tbody tr th {\n",
       "        vertical-align: top;\n",
       "    }\n",
       "\n",
       "    .dataframe thead th {\n",
       "        text-align: right;\n",
       "    }\n",
       "</style>\n",
       "<table border=\"1\" class=\"dataframe\">\n",
       "  <thead>\n",
       "    <tr style=\"text-align: right;\">\n",
       "      <th></th>\n",
       "      <th>FAMILY SIZE</th>\n",
       "      <th>AGE</th>\n",
       "      <th>INCOME</th>\n",
       "      <th>SOCIAL_STABILITY</th>\n",
       "      <th>SOCIAL_EXPOSURE</th>\n",
       "      <th>SOCIAL_QUALITY</th>\n",
       "      <th>LOAN_SOCIAL_VAR</th>\n",
       "      <th>GENDER_F</th>\n",
       "      <th>GENDER_M</th>\n",
       "      <th>CAR_N</th>\n",
       "      <th>...</th>\n",
       "      <th>FAMILY_TYPE_Married</th>\n",
       "      <th>FAMILY_TYPE_Single / not married</th>\n",
       "      <th>FAMILY_TYPE_Unmarried</th>\n",
       "      <th>FAMILY_TYPE_Widow</th>\n",
       "      <th>HOUSE_TYPE_Co-op apartment</th>\n",
       "      <th>HOUSE_TYPE_House / apartment</th>\n",
       "      <th>HOUSE_TYPE_Municipal apartment</th>\n",
       "      <th>HOUSE_TYPE_Office apartment</th>\n",
       "      <th>HOUSE_TYPE_Rented apartment</th>\n",
       "      <th>HOUSE_TYPE_With parents</th>\n",
       "    </tr>\n",
       "  </thead>\n",
       "  <tbody>\n",
       "    <tr>\n",
       "      <th>0</th>\n",
       "      <td>2</td>\n",
       "      <td>59</td>\n",
       "      <td>57583</td>\n",
       "      <td>0.32</td>\n",
       "      <td>0.12</td>\n",
       "      <td>0.87</td>\n",
       "      <td>0.033408</td>\n",
       "      <td>0.0</td>\n",
       "      <td>1.0</td>\n",
       "      <td>0.0</td>\n",
       "      <td>...</td>\n",
       "      <td>1.0</td>\n",
       "      <td>0.0</td>\n",
       "      <td>0.0</td>\n",
       "      <td>0.0</td>\n",
       "      <td>0.0</td>\n",
       "      <td>1.0</td>\n",
       "      <td>0.0</td>\n",
       "      <td>0.0</td>\n",
       "      <td>0.0</td>\n",
       "      <td>0.0</td>\n",
       "    </tr>\n",
       "    <tr>\n",
       "      <th>1</th>\n",
       "      <td>1</td>\n",
       "      <td>52</td>\n",
       "      <td>26317</td>\n",
       "      <td>0.32</td>\n",
       "      <td>0.56</td>\n",
       "      <td>0.10</td>\n",
       "      <td>0.017920</td>\n",
       "      <td>1.0</td>\n",
       "      <td>0.0</td>\n",
       "      <td>1.0</td>\n",
       "      <td>...</td>\n",
       "      <td>0.0</td>\n",
       "      <td>1.0</td>\n",
       "      <td>0.0</td>\n",
       "      <td>0.0</td>\n",
       "      <td>0.0</td>\n",
       "      <td>1.0</td>\n",
       "      <td>0.0</td>\n",
       "      <td>0.0</td>\n",
       "      <td>0.0</td>\n",
       "      <td>0.0</td>\n",
       "    </tr>\n",
       "    <tr>\n",
       "      <th>2</th>\n",
       "      <td>1</td>\n",
       "      <td>52</td>\n",
       "      <td>20458</td>\n",
       "      <td>0.31</td>\n",
       "      <td>0.21</td>\n",
       "      <td>0.03</td>\n",
       "      <td>0.001953</td>\n",
       "      <td>1.0</td>\n",
       "      <td>0.0</td>\n",
       "      <td>1.0</td>\n",
       "      <td>...</td>\n",
       "      <td>0.0</td>\n",
       "      <td>1.0</td>\n",
       "      <td>0.0</td>\n",
       "      <td>0.0</td>\n",
       "      <td>0.0</td>\n",
       "      <td>1.0</td>\n",
       "      <td>0.0</td>\n",
       "      <td>0.0</td>\n",
       "      <td>0.0</td>\n",
       "      <td>0.0</td>\n",
       "    </tr>\n",
       "    <tr>\n",
       "      <th>3</th>\n",
       "      <td>1</td>\n",
       "      <td>52</td>\n",
       "      <td>29275</td>\n",
       "      <td>0.31</td>\n",
       "      <td>0.11</td>\n",
       "      <td>0.87</td>\n",
       "      <td>0.029667</td>\n",
       "      <td>1.0</td>\n",
       "      <td>0.0</td>\n",
       "      <td>1.0</td>\n",
       "      <td>...</td>\n",
       "      <td>0.0</td>\n",
       "      <td>1.0</td>\n",
       "      <td>0.0</td>\n",
       "      <td>0.0</td>\n",
       "      <td>0.0</td>\n",
       "      <td>1.0</td>\n",
       "      <td>0.0</td>\n",
       "      <td>0.0</td>\n",
       "      <td>0.0</td>\n",
       "      <td>0.0</td>\n",
       "    </tr>\n",
       "    <tr>\n",
       "      <th>4</th>\n",
       "      <td>1</td>\n",
       "      <td>52</td>\n",
       "      <td>41992</td>\n",
       "      <td>0.32</td>\n",
       "      <td>0.12</td>\n",
       "      <td>0.10</td>\n",
       "      <td>0.003840</td>\n",
       "      <td>1.0</td>\n",
       "      <td>0.0</td>\n",
       "      <td>1.0</td>\n",
       "      <td>...</td>\n",
       "      <td>0.0</td>\n",
       "      <td>1.0</td>\n",
       "      <td>0.0</td>\n",
       "      <td>0.0</td>\n",
       "      <td>0.0</td>\n",
       "      <td>1.0</td>\n",
       "      <td>0.0</td>\n",
       "      <td>0.0</td>\n",
       "      <td>0.0</td>\n",
       "      <td>0.0</td>\n",
       "    </tr>\n",
       "  </tbody>\n",
       "</table>\n",
       "<p>5 rows × 31 columns</p>\n",
       "</div>"
      ],
      "text/plain": [
       "   FAMILY SIZE  AGE  INCOME  SOCIAL_STABILITY  SOCIAL_EXPOSURE  \\\n",
       "0            2   59   57583              0.32             0.12   \n",
       "1            1   52   26317              0.32             0.56   \n",
       "2            1   52   20458              0.31             0.21   \n",
       "3            1   52   29275              0.31             0.11   \n",
       "4            1   52   41992              0.32             0.12   \n",
       "\n",
       "   SOCIAL_QUALITY  LOAN_SOCIAL_VAR  GENDER_F  GENDER_M  CAR_N  ...  \\\n",
       "0            0.87         0.033408       0.0       1.0    0.0  ...   \n",
       "1            0.10         0.017920       1.0       0.0    1.0  ...   \n",
       "2            0.03         0.001953       1.0       0.0    1.0  ...   \n",
       "3            0.87         0.029667       1.0       0.0    1.0  ...   \n",
       "4            0.10         0.003840       1.0       0.0    1.0  ...   \n",
       "\n",
       "   FAMILY_TYPE_Married  FAMILY_TYPE_Single / not married  \\\n",
       "0                  1.0                               0.0   \n",
       "1                  0.0                               1.0   \n",
       "2                  0.0                               1.0   \n",
       "3                  0.0                               1.0   \n",
       "4                  0.0                               1.0   \n",
       "\n",
       "   FAMILY_TYPE_Unmarried  FAMILY_TYPE_Widow  HOUSE_TYPE_Co-op apartment  \\\n",
       "0                    0.0                0.0                         0.0   \n",
       "1                    0.0                0.0                         0.0   \n",
       "2                    0.0                0.0                         0.0   \n",
       "3                    0.0                0.0                         0.0   \n",
       "4                    0.0                0.0                         0.0   \n",
       "\n",
       "   HOUSE_TYPE_House / apartment  HOUSE_TYPE_Municipal apartment  \\\n",
       "0                           1.0                             0.0   \n",
       "1                           1.0                             0.0   \n",
       "2                           1.0                             0.0   \n",
       "3                           1.0                             0.0   \n",
       "4                           1.0                             0.0   \n",
       "\n",
       "   HOUSE_TYPE_Office apartment  HOUSE_TYPE_Rented apartment  \\\n",
       "0                          0.0                          0.0   \n",
       "1                          0.0                          0.0   \n",
       "2                          0.0                          0.0   \n",
       "3                          0.0                          0.0   \n",
       "4                          0.0                          0.0   \n",
       "\n",
       "   HOUSE_TYPE_With parents  \n",
       "0                      0.0  \n",
       "1                      0.0  \n",
       "2                      0.0  \n",
       "3                      0.0  \n",
       "4                      0.0  \n",
       "\n",
       "[5 rows x 31 columns]"
      ]
     },
     "execution_count": 16,
     "metadata": {},
     "output_type": "execute_result"
    }
   ],
   "source": [
    "# Define features set X by selecting all columns BUT LOAN_APPROVAL_True and LOAN_APPROVAL_False\n",
    "X = cc_df.drop(columns=[\"LOAN_APPROVAL_1\", \"LOAN_APPROVAL_0\"])\n",
    "\n",
    "# Review the features DataFrame\n",
    "X.head()"
   ]
  },
  {
   "cell_type": "code",
   "execution_count": null,
   "id": "be631ea8-5b67-44e8-a522-b8b108739c4b",
   "metadata": {},
   "outputs": [],
   "source": []
  },
  {
   "cell_type": "code",
   "execution_count": 17,
   "id": "38d75842-f0e3-4351-8f7d-97d8868e49fd",
   "metadata": {},
   "outputs": [],
   "source": [
    " # Splitting into Train and Test sets\n",
    "X_train, X_test, y_train, y_test = train_test_split(X, y, random_state=78)"
   ]
  },
  {
   "cell_type": "code",
   "execution_count": 18,
   "id": "b9e60611-56af-4a98-bf1a-21c3dbfef519",
   "metadata": {},
   "outputs": [],
   "source": [
    " # Create the StandardScaler instance\n",
    "scaler = StandardScaler()"
   ]
  },
  {
   "cell_type": "code",
   "execution_count": 19,
   "id": "d032731e-41a6-4b16-a714-9c5ab47c5561",
   "metadata": {},
   "outputs": [],
   "source": [
    "# Fit the Standard Scaler with the training data\n",
    "X_scaler = scaler.fit(X_train)"
   ]
  },
  {
   "cell_type": "code",
   "execution_count": 20,
   "id": "9ddf40df-244d-4df5-bf3a-66a144350078",
   "metadata": {},
   "outputs": [],
   "source": [
    "# Scale the training data\n",
    "X_train_scaled = X_scaler.transform(X_train)\n",
    "X_test_scaled = X_scaler.transform(X_test)"
   ]
  },
  {
   "cell_type": "code",
   "execution_count": 21,
   "id": "83562581-9ba7-41f0-ba0a-188511d40d1e",
   "metadata": {},
   "outputs": [],
   "source": [
    "# Create the random forest classifier instance\n",
    "rf_model = RandomForestClassifier(n_estimators=500, random_state=78)"
   ]
  },
  {
   "cell_type": "code",
   "execution_count": null,
   "id": "93fe984e-d936-4ae7-87e6-21eead968b1d",
   "metadata": {},
   "outputs": [],
   "source": []
  },
  {
   "cell_type": "code",
   "execution_count": 22,
   "id": "d8d44f9a-e74e-4506-b130-87faae92a94e",
   "metadata": {},
   "outputs": [
    {
     "name": "stderr",
     "output_type": "stream",
     "text": [
      "C:\\Users\\owner\\anaconda3\\envs\\mlenv\\lib\\site-packages\\ipykernel_launcher.py:1: DataConversionWarning: A column-vector y was passed when a 1d array was expected. Please change the shape of y to (n_samples,), for example using ravel().\n",
      "  \"\"\"Entry point for launching an IPython kernel.\n"
     ]
    },
    {
     "data": {
      "text/plain": [
       "RandomForestClassifier(n_estimators=500, random_state=78)"
      ]
     },
     "execution_count": 22,
     "metadata": {},
     "output_type": "execute_result"
    }
   ],
   "source": [
    "rf_model.fit(X_train_scaled, y_train)"
   ]
  },
  {
   "cell_type": "code",
   "execution_count": 23,
   "id": "c56b07d0-3cbb-4728-b41c-e02888b5e050",
   "metadata": {},
   "outputs": [],
   "source": [
    "# Fit the model\n",
    "#rf_model = rf_model.fit(X_train_scaled, y_train)"
   ]
  },
  {
   "cell_type": "code",
   "execution_count": null,
   "id": "3cd4e041-4cbd-41c2-8a56-e788dfed05f1",
   "metadata": {},
   "outputs": [],
   "source": []
  },
  {
   "cell_type": "code",
   "execution_count": null,
   "id": "3cb0c48e-d44d-4324-a293-553084464067",
   "metadata": {},
   "outputs": [],
   "source": []
  },
  {
   "cell_type": "code",
   "execution_count": null,
   "id": "fb9aef08-1005-48e8-9a2b-134936eb749a",
   "metadata": {},
   "outputs": [],
   "source": []
  },
  {
   "cell_type": "code",
   "execution_count": null,
   "id": "2d3c83d4-87e5-496e-a6e1-de93c84628ca",
   "metadata": {},
   "outputs": [],
   "source": []
  },
  {
   "cell_type": "code",
   "execution_count": 24,
   "id": "a3ad625f-36c7-483e-973d-56a75d9612ac",
   "metadata": {},
   "outputs": [],
   "source": [
    "predictions = rf_model.predict(X_test_scaled)"
   ]
  },
  {
   "cell_type": "code",
   "execution_count": 25,
   "id": "c11e2e64-1192-42f2-8fdd-cacecfd4f3a5",
   "metadata": {},
   "outputs": [],
   "source": [
    "#Calculate the confusion matrix\n",
    "cm=confusion_matrix(y_test, predictions)\n"
   ]
  },
  {
   "cell_type": "code",
   "execution_count": 26,
   "id": "0bc9eea2-56cf-4ce0-aa3c-3b4a5c00c282",
   "metadata": {},
   "outputs": [
    {
     "data": {
      "text/plain": [
       "array([[ 635,    0],\n",
       "       [   1, 2357]], dtype=int64)"
      ]
     },
     "metadata": {},
     "output_type": "display_data"
    }
   ],
   "source": [
    "display(cm)"
   ]
  },
  {
   "cell_type": "code",
   "execution_count": 27,
   "id": "8cd13ce5-695c-4d06-9c33-e676a603b9f3",
   "metadata": {},
   "outputs": [],
   "source": [
    "# Calculating the accuracy score\n",
    "acc_score = accuracy_score(y_test, predictions)"
   ]
  },
  {
   "cell_type": "code",
   "execution_count": 28,
   "id": "0aae889e-81d9-422e-b548-bd3ed2662822",
   "metadata": {},
   "outputs": [
    {
     "name": "stdout",
     "output_type": "stream",
     "text": [
      "Accuracy Score : 0.9996658870698296\n",
      "Classification Report\n",
      "              precision    recall  f1-score   support\n",
      "\n",
      "         0.0       1.00      1.00      1.00       635\n",
      "         1.0       1.00      1.00      1.00      2358\n",
      "\n",
      "    accuracy                           1.00      2993\n",
      "   macro avg       1.00      1.00      1.00      2993\n",
      "weighted avg       1.00      1.00      1.00      2993\n",
      "\n"
     ]
    }
   ],
   "source": [
    "print(f\"Accuracy Score : {acc_score}\")\n",
    "print(\"Classification Report\")\n",
    "print(classification_report(y_test, predictions))"
   ]
  },
  {
   "cell_type": "code",
   "execution_count": null,
   "id": "9f9ff47b-053e-4054-ab11-5d1ad81a296f",
   "metadata": {},
   "outputs": [],
   "source": []
  },
  {
   "cell_type": "code",
   "execution_count": 29,
   "id": "90d9c765-580f-45e7-b670-d0cb5948546b",
   "metadata": {},
   "outputs": [],
   "source": [
    "#features"
   ]
  },
  {
   "cell_type": "code",
   "execution_count": 30,
   "id": "8e523960-d7a8-4426-9aa2-95cf22b99418",
   "metadata": {},
   "outputs": [],
   "source": [
    "# Random Forests in sklearn will automatically calculate feature importance\n",
    "importances = rf_model.feature_importances_"
   ]
  },
  {
   "cell_type": "code",
   "execution_count": 31,
   "id": "760b310e-4ee6-4005-bf19-839ae2a5890a",
   "metadata": {},
   "outputs": [
    {
     "data": {
      "text/plain": [
       "[(0.8163442531340467, 'INCOME'),\n",
       " (0.09244183201450887, 'LOAN_SOCIAL_VAR'),\n",
       " (0.02219694232733533, 'SOCIAL_QUALITY'),\n",
       " (0.017345103393740093, 'AGE'),\n",
       " (0.01294416427600539, 'SOCIAL_EXPOSURE'),\n",
       " (0.005670810709400079, 'FAMILY SIZE'),\n",
       " (0.005215483632715451, 'SOCIAL_STABILITY'),\n",
       " (0.001995249089915808, 'EDUCATION_TYPE_Secondary / secondary special'),\n",
       " (0.0019884206868112657, 'INCOME_TYPE_Working'),\n",
       " (0.0018130364384835829, 'INCOME_TYPE_Commercial associate'),\n",
       " (0.0017867442900647587, 'EDUCATION_TYPE_Higher education'),\n",
       " (0.001659381937098254, 'CAR_N'),\n",
       " (0.0016515755487920664, 'GENDER_M'),\n",
       " (0.001610578867272326, 'CAR_Y'),\n",
       " (0.0016016751664499704, 'GENDER_F'),\n",
       " (0.001570740634463542, 'FAMILY_TYPE_Married'),\n",
       " (0.001392471580188656, 'INCOME_TYPE_State servant'),\n",
       " (0.0013891186255270626, 'HOUSE_TYPE_House / apartment'),\n",
       " (0.0013249154812281267, 'FAMILY_TYPE_Single / not married'),\n",
       " (0.0011401599502636412, 'FAMILY_TYPE_Unmarried'),\n",
       " (0.0010382097497898556, 'EDUCATION_TYPE_Incomplete higher'),\n",
       " (0.0010127041182495886, 'FAMILY_TYPE_Divorced'),\n",
       " (0.0010122063431992697, 'HOUSE_TYPE_With parents'),\n",
       " (0.0008825593775084143, 'HOUSE_TYPE_Municipal apartment'),\n",
       " (0.0008403712262499602, 'HOUSE_TYPE_Rented apartment'),\n",
       " (0.0006416365181769727, 'FAMILY_TYPE_Widow'),\n",
       " (0.00042706941856669874, 'HOUSE_TYPE_Office apartment'),\n",
       " (0.00039963427550332626, 'EDUCATION_TYPE_Lower secondary'),\n",
       " (0.00024063555105572807, 'INCOME_TYPE_Student'),\n",
       " (0.00021708915338775083, 'HOUSE_TYPE_Co-op apartment'),\n",
       " (0.00020522648400154872, 'EDUCATION_TYPE_Academic degree')]"
      ]
     },
     "execution_count": 31,
     "metadata": {},
     "output_type": "execute_result"
    }
   ],
   "source": [
    "# We can sort the features by their importance\n",
    "sorted(zip(rf_model.feature_importances_, X.columns), reverse=True)"
   ]
  },
  {
   "cell_type": "code",
   "execution_count": 32,
   "id": "015067b5-e695-4ebf-82ce-535285902071",
   "metadata": {},
   "outputs": [
    {
     "data": {
      "text/plain": [
       "<AxesSubplot:title={'center':'Features Importances'}, ylabel='1'>"
      ]
     },
     "execution_count": 32,
     "metadata": {},
     "output_type": "execute_result"
    },
    {
     "data": {
      "image/png": "[encoded data removed]",
      "text/plain": [
       "<Figure size 1440x720 with 1 Axes>"
      ]
     },
     "metadata": {
      "needs_background": "light"
     },
     "output_type": "display_data"
    }
   ],
   "source": [
    " # Visualize the features by importance\n",
    "importances_df = pd.DataFrame(sorted(zip(rf_model.feature_importances_, X.columns), reverse=True))\n",
    "importances_df.set_index(importances_df[1], inplace=True)\n",
    "importances_df.drop(columns=1, inplace=True)\n",
    "importances_df.rename(columns={0: 'Feature Importances'}, inplace=True)\n",
    "importances_sorted = importances_df.sort_values(by='Feature Importances')\n",
    "importances_sorted.plot(figsize=(20,10), kind='barh', color='lightgreen', title= 'Features Importances', legend=False)"
   ]
  },
  {
   "cell_type": "code",
   "execution_count": null,
   "id": "b61165f3-fcd9-4d5d-85d7-1f44d3d97ea8",
   "metadata": {},
   "outputs": [],
   "source": []
  },
  {
   "cell_type": "code",
   "execution_count": null,
   "id": "5d1290d3-e3a7-438b-b59e-3d3d064f60d0",
   "metadata": {},
   "outputs": [],
   "source": []
  },
  {
   "cell_type": "code",
   "execution_count": 33,
   "id": "02f295be-cc14-49ea-b9a5-1fea0f5c2f3e",
   "metadata": {},
   "outputs": [],
   "source": [
    "#Logistic Regression"
   ]
  },
  {
   "cell_type": "code",
   "execution_count": 34,
   "id": "3dd13699-87d2-41bb-8be7-2d0e0cbbcb9f",
   "metadata": {},
   "outputs": [],
   "source": [
    "# Import a new classifier from SKLearn\n",
    "from sklearn.linear_model import LogisticRegression"
   ]
  },
  {
   "cell_type": "code",
   "execution_count": 35,
   "id": "fa80d448-8885-4771-a50c-6fe097f25c7a",
   "metadata": {},
   "outputs": [],
   "source": [
    "\n",
    "\n",
    "# Initiate the model instance\n",
    "logistic_regression_model = LogisticRegression()\n",
    "\n"
   ]
  },
  {
   "cell_type": "code",
   "execution_count": 36,
   "id": "ddf997ef-1d57-41d0-91a7-73e50d73811f",
   "metadata": {},
   "outputs": [
    {
     "name": "stderr",
     "output_type": "stream",
     "text": [
      "C:\\Users\\owner\\anaconda3\\envs\\mlenv\\lib\\site-packages\\sklearn\\utils\\validation.py:993: DataConversionWarning: A column-vector y was passed when a 1d array was expected. Please change the shape of y to (n_samples, ), for example using ravel().\n",
      "  y = column_or_1d(y, warn=True)\n"
     ]
    }
   ],
   "source": [
    "model_lr = logistic_regression_model.fit(X_train_scaled, y_train)"
   ]
  },
  {
   "cell_type": "code",
   "execution_count": 37,
   "id": "2c432a4e-613f-41cd-ab09-d4948c24d3e4",
   "metadata": {},
   "outputs": [],
   "source": [
    "predictions_lr = model_lr.predict(X_test_scaled)"
   ]
  },
  {
   "cell_type": "code",
   "execution_count": 38,
   "id": "de8c64aa-de7c-4d72-ad10-b79a5cc46375",
   "metadata": {},
   "outputs": [],
   "source": [
    "#Calculate the confusion matrix\n",
    "cm_lr=confusion_matrix(y_test, predictions_lr)"
   ]
  },
  {
   "cell_type": "code",
   "execution_count": 39,
   "id": "7b6f6bb6-c70d-447a-aea4-0fad3f47ba0a",
   "metadata": {},
   "outputs": [
    {
     "data": {
      "text/plain": [
       "array([[ 590,   45],\n",
       "       [  58, 2300]], dtype=int64)"
      ]
     },
     "metadata": {},
     "output_type": "display_data"
    }
   ],
   "source": [
    "display(cm_lr)"
   ]
  },
  {
   "cell_type": "code",
   "execution_count": 40,
   "id": "7d5714b9-0424-4896-97af-fa6d9cd63b98",
   "metadata": {},
   "outputs": [],
   "source": [
    "# Calculating the accuracy score\n",
    "acc_score_lr = accuracy_score(y_test, predictions_lr)"
   ]
  },
  {
   "cell_type": "code",
   "execution_count": 41,
   "id": "98b782d3-7724-44f9-ae15-afc3a10a2f16",
   "metadata": {},
   "outputs": [
    {
     "name": "stdout",
     "output_type": "stream",
     "text": [
      "Accuracy Score : 0.965586368192449\n",
      "Classification Report\n",
      "              precision    recall  f1-score   support\n",
      "\n",
      "         0.0       0.91      0.93      0.92       635\n",
      "         1.0       0.98      0.98      0.98      2358\n",
      "\n",
      "    accuracy                           0.97      2993\n",
      "   macro avg       0.95      0.95      0.95      2993\n",
      "weighted avg       0.97      0.97      0.97      2993\n",
      "\n"
     ]
    }
   ],
   "source": [
    "print(f\"Accuracy Score : {acc_score_lr}\")\n",
    "print(\"Classification Report\")\n",
    "print(classification_report(y_test, predictions_lr))"
   ]
  },
  {
   "cell_type": "code",
   "execution_count": null,
   "id": "bc765722-d413-4737-8753-18793e7dd905",
   "metadata": {},
   "outputs": [],
   "source": []
  },
  {
   "cell_type": "code",
   "execution_count": 42,
   "id": "1d2c0769-57aa-4c09-8ab7-c7b5b11078ee",
   "metadata": {},
   "outputs": [],
   "source": [
    "#SVM"
   ]
  },
  {
   "cell_type": "code",
   "execution_count": 43,
   "id": "c794d785-4e47-4e36-b7b8-09b340c1da08",
   "metadata": {},
   "outputs": [],
   "source": [
    "from sklearn import svm"
   ]
  },
  {
   "cell_type": "code",
   "execution_count": 44,
   "id": "ce88e30d-5b61-48ad-ac1c-5f730193d658",
   "metadata": {},
   "outputs": [],
   "source": [
    "# From SVM, instantiate SVC classifier model instance\n",
    "svm_model = svm.SVC(probability=True)"
   ]
  },
  {
   "cell_type": "code",
   "execution_count": 45,
   "id": "4c875150-6f3f-4dbb-a459-476795a8699e",
   "metadata": {},
   "outputs": [
    {
     "name": "stderr",
     "output_type": "stream",
     "text": [
      "C:\\Users\\owner\\anaconda3\\envs\\mlenv\\lib\\site-packages\\sklearn\\utils\\validation.py:993: DataConversionWarning: A column-vector y was passed when a 1d array was expected. Please change the shape of y to (n_samples, ), for example using ravel().\n",
      "  y = column_or_1d(y, warn=True)\n"
     ]
    }
   ],
   "source": [
    "# Fit the model to the data using the training data\n",
    "svm_model = svm_model.fit(X_train_scaled, y_train)"
   ]
  },
  {
   "cell_type": "code",
   "execution_count": 46,
   "id": "868f23d0-9414-49dd-8ebc-ad3aa524b58d",
   "metadata": {},
   "outputs": [],
   "source": [
    "# Use the testing data to make the model predictions\n",
    "svm_pred = svm_model.predict(X_test_scaled)"
   ]
  },
  {
   "cell_type": "code",
   "execution_count": 47,
   "id": "e4749cd0-ecce-4747-b478-0bbdb5348686",
   "metadata": {},
   "outputs": [
    {
     "data": {
      "text/plain": [
       "array([1., 0., 1., 1., 0., 1., 1., 0., 0., 1., 0., 1.])"
      ]
     },
     "execution_count": 47,
     "metadata": {},
     "output_type": "execute_result"
    }
   ],
   "source": [
    "# Review the model's predicted values\n",
    "svm_pred[:12]"
   ]
  },
  {
   "cell_type": "code",
   "execution_count": 48,
   "id": "2ee96316-31cf-454d-b3cb-b4409797746d",
   "metadata": {},
   "outputs": [],
   "source": [
    "#Calculate the confusion matrix\n",
    "cm_svm=confusion_matrix(y_test, svm_pred)"
   ]
  },
  {
   "cell_type": "code",
   "execution_count": 49,
   "id": "53207888-9183-4622-86f9-1e27011f39d1",
   "metadata": {},
   "outputs": [
    {
     "data": {
      "text/plain": [
       "array([[ 565,   70],\n",
       "       [  68, 2290]], dtype=int64)"
      ]
     },
     "metadata": {},
     "output_type": "display_data"
    }
   ],
   "source": [
    "display(cm_svm)"
   ]
  },
  {
   "cell_type": "code",
   "execution_count": 50,
   "id": "0afb6129-c7f2-4d37-849b-0533071df239",
   "metadata": {},
   "outputs": [],
   "source": [
    "# Calculating the accuracy score\n",
    "acc_score_svm = accuracy_score(y_test, svm_pred)"
   ]
  },
  {
   "cell_type": "code",
   "execution_count": 51,
   "id": "df9e723b-81f6-40b1-b56b-0c861e893643",
   "metadata": {},
   "outputs": [
    {
     "name": "stdout",
     "output_type": "stream",
     "text": [
      "Accuracy Score : 0.9538924156364851\n",
      "Classification Report\n",
      "              precision    recall  f1-score   support\n",
      "\n",
      "         0.0       0.89      0.89      0.89       635\n",
      "         1.0       0.97      0.97      0.97      2358\n",
      "\n",
      "    accuracy                           0.95      2993\n",
      "   macro avg       0.93      0.93      0.93      2993\n",
      "weighted avg       0.95      0.95      0.95      2993\n",
      "\n"
     ]
    }
   ],
   "source": [
    "print(f\"Accuracy Score : {acc_score_svm}\")\n",
    "print(\"Classification Report\")\n",
    "print(classification_report(y_test, svm_pred))"
   ]
  },
  {
   "cell_type": "code",
   "execution_count": 52,
   "id": "f8e34b7c-9372-4054-aea7-86e12c97cf11",
   "metadata": {},
   "outputs": [],
   "source": [
    "#gradientBoost\n",
    "from sklearn.ensemble import GradientBoostingClassifier\n",
    "# Needed for decision tree visualization\n",
    "import pydotplus\n",
    "from IPython.display import Image\n"
   ]
  },
  {
   "cell_type": "code",
   "execution_count": 53,
   "id": "58cf1f12-1bb2-417d-aabd-2124ea91f3db",
   "metadata": {},
   "outputs": [
    {
     "name": "stdout",
     "output_type": "stream",
     "text": [
      "Learning rate:  0.05\n",
      "Accuracy score (training): 0.866\n",
      "Accuracy score (validation): 0.856\n",
      "\n",
      "Learning rate:  0.1\n",
      "Accuracy score (training): 0.997\n",
      "Accuracy score (validation): 0.997\n",
      "\n",
      "Learning rate:  0.25\n",
      "Accuracy score (training): 1.000\n",
      "Accuracy score (validation): 1.000\n",
      "\n",
      "Learning rate:  0.5\n",
      "Accuracy score (training): 1.000\n",
      "Accuracy score (validation): 1.000\n",
      "\n",
      "Learning rate:  0.75\n",
      "Accuracy score (training): 1.000\n",
      "Accuracy score (validation): 1.000\n",
      "\n",
      "Learning rate:  1\n",
      "Accuracy score (training): 1.000\n",
      "Accuracy score (validation): 1.000\n",
      "\n"
     ]
    }
   ],
   "source": [
    " # Create a classifier object\n",
    "learning_rates = [0.05, 0.1, 0.25, 0.5, 0.75, 1]\n",
    "for learning_rate in learning_rates:\n",
    "    classifier = GradientBoostingClassifier(n_estimators=20,\n",
    "                                            learning_rate=learning_rate,\n",
    "                                            max_features=5,\n",
    "                                            max_depth=3,\n",
    "                                            random_state=0)\n",
    "\n",
    "    # Fit the model\n",
    "    classifier.fit(X_train_scaled, y_train.ravel())\n",
    "    print(\"Learning rate: \", learning_rate)\n",
    "\n",
    "    # Score the model\n",
    "    print(\"Accuracy score (training): {0:.3f}\".format(\n",
    "        classifier.score(\n",
    "            X_train_scaled,\n",
    "            y_train.ravel())))\n",
    "    print(\"Accuracy score (validation): {0:.3f}\".format(\n",
    "        classifier.score(\n",
    "           X_test_scaled,\n",
    "            y_test.ravel())))\n",
    "    print()"
   ]
  },
  {
   "cell_type": "code",
   "execution_count": 54,
   "id": "4887b187-e0d9-4c3d-bfaa-bd0aba0030c9",
   "metadata": {},
   "outputs": [
    {
     "data": {
      "text/html": [
       "<div>\n",
       "<style scoped>\n",
       "    .dataframe tbody tr th:only-of-type {\n",
       "        vertical-align: middle;\n",
       "    }\n",
       "\n",
       "    .dataframe tbody tr th {\n",
       "        vertical-align: top;\n",
       "    }\n",
       "\n",
       "    .dataframe thead th {\n",
       "        text-align: right;\n",
       "    }\n",
       "</style>\n",
       "<table border=\"1\" class=\"dataframe\">\n",
       "  <thead>\n",
       "    <tr style=\"text-align: right;\">\n",
       "      <th></th>\n",
       "      <th>Prediction</th>\n",
       "      <th>Actual</th>\n",
       "    </tr>\n",
       "  </thead>\n",
       "  <tbody>\n",
       "    <tr>\n",
       "      <th>0</th>\n",
       "      <td>1.0</td>\n",
       "      <td>1.0</td>\n",
       "    </tr>\n",
       "    <tr>\n",
       "      <th>1</th>\n",
       "      <td>1.0</td>\n",
       "      <td>1.0</td>\n",
       "    </tr>\n",
       "    <tr>\n",
       "      <th>2</th>\n",
       "      <td>1.0</td>\n",
       "      <td>1.0</td>\n",
       "    </tr>\n",
       "    <tr>\n",
       "      <th>3</th>\n",
       "      <td>1.0</td>\n",
       "      <td>1.0</td>\n",
       "    </tr>\n",
       "    <tr>\n",
       "      <th>4</th>\n",
       "      <td>0.0</td>\n",
       "      <td>0.0</td>\n",
       "    </tr>\n",
       "    <tr>\n",
       "      <th>5</th>\n",
       "      <td>1.0</td>\n",
       "      <td>1.0</td>\n",
       "    </tr>\n",
       "    <tr>\n",
       "      <th>6</th>\n",
       "      <td>1.0</td>\n",
       "      <td>1.0</td>\n",
       "    </tr>\n",
       "    <tr>\n",
       "      <th>7</th>\n",
       "      <td>0.0</td>\n",
       "      <td>0.0</td>\n",
       "    </tr>\n",
       "    <tr>\n",
       "      <th>8</th>\n",
       "      <td>0.0</td>\n",
       "      <td>0.0</td>\n",
       "    </tr>\n",
       "    <tr>\n",
       "      <th>9</th>\n",
       "      <td>0.0</td>\n",
       "      <td>0.0</td>\n",
       "    </tr>\n",
       "    <tr>\n",
       "      <th>10</th>\n",
       "      <td>0.0</td>\n",
       "      <td>0.0</td>\n",
       "    </tr>\n",
       "    <tr>\n",
       "      <th>11</th>\n",
       "      <td>1.0</td>\n",
       "      <td>1.0</td>\n",
       "    </tr>\n",
       "    <tr>\n",
       "      <th>12</th>\n",
       "      <td>1.0</td>\n",
       "      <td>1.0</td>\n",
       "    </tr>\n",
       "    <tr>\n",
       "      <th>13</th>\n",
       "      <td>1.0</td>\n",
       "      <td>1.0</td>\n",
       "    </tr>\n",
       "    <tr>\n",
       "      <th>14</th>\n",
       "      <td>1.0</td>\n",
       "      <td>1.0</td>\n",
       "    </tr>\n",
       "    <tr>\n",
       "      <th>15</th>\n",
       "      <td>1.0</td>\n",
       "      <td>1.0</td>\n",
       "    </tr>\n",
       "    <tr>\n",
       "      <th>16</th>\n",
       "      <td>1.0</td>\n",
       "      <td>1.0</td>\n",
       "    </tr>\n",
       "    <tr>\n",
       "      <th>17</th>\n",
       "      <td>1.0</td>\n",
       "      <td>1.0</td>\n",
       "    </tr>\n",
       "    <tr>\n",
       "      <th>18</th>\n",
       "      <td>1.0</td>\n",
       "      <td>1.0</td>\n",
       "    </tr>\n",
       "    <tr>\n",
       "      <th>19</th>\n",
       "      <td>1.0</td>\n",
       "      <td>1.0</td>\n",
       "    </tr>\n",
       "  </tbody>\n",
       "</table>\n",
       "</div>"
      ],
      "text/plain": [
       "    Prediction  Actual\n",
       "0          1.0     1.0\n",
       "1          1.0     1.0\n",
       "2          1.0     1.0\n",
       "3          1.0     1.0\n",
       "4          0.0     0.0\n",
       "5          1.0     1.0\n",
       "6          1.0     1.0\n",
       "7          0.0     0.0\n",
       "8          0.0     0.0\n",
       "9          0.0     0.0\n",
       "10         0.0     0.0\n",
       "11         1.0     1.0\n",
       "12         1.0     1.0\n",
       "13         1.0     1.0\n",
       "14         1.0     1.0\n",
       "15         1.0     1.0\n",
       "16         1.0     1.0\n",
       "17         1.0     1.0\n",
       "18         1.0     1.0\n",
       "19         1.0     1.0"
      ]
     },
     "execution_count": 54,
     "metadata": {},
     "output_type": "execute_result"
    }
   ],
   "source": [
    "# Choose a learning rate and create classifier\n",
    "classifier = GradientBoostingClassifier(n_estimators=20,\n",
    "                                        learning_rate=0.75,\n",
    "                                        max_features=5,\n",
    "                                        max_depth=3,\n",
    "                                        random_state=0)\n",
    "\n",
    "# Fit the model\n",
    "classifier.fit(X_train_scaled, y_train.ravel())\n",
    "\n",
    "# Make Prediction\n",
    "predictions_grad = classifier.predict(X_test_scaled)\n",
    "pd.DataFrame({\"Prediction\": predictions_grad, \"Actual\": y_test.ravel()}).head(20)"
   ]
  },
  {
   "cell_type": "code",
   "execution_count": 55,
   "id": "b339b152-6f5e-4aa7-963b-e875e5e85d4f",
   "metadata": {},
   "outputs": [
    {
     "name": "stdout",
     "output_type": "stream",
     "text": [
      "Accuracy Score : 0.9996658870698296\n"
     ]
    }
   ],
   "source": [
    "# Calculating the accuracy score\n",
    "acc_score_grad = accuracy_score(y_test, predictions_grad)\n",
    "print(f\"Accuracy Score : {acc_score_grad}\")"
   ]
  },
  {
   "cell_type": "code",
   "execution_count": 56,
   "id": "bb36f819-a1a3-4dbb-b982-d4cf25e3e836",
   "metadata": {},
   "outputs": [],
   "source": [
    "cm_grad= confusion_matrix(y_test,predictions_grad)"
   ]
  },
  {
   "cell_type": "code",
   "execution_count": 57,
   "id": "506f9a2e-5403-480a-b07c-5a9830e34383",
   "metadata": {},
   "outputs": [
    {
     "data": {
      "text/plain": [
       "array([[ 635,    0],\n",
       "       [   1, 2357]], dtype=int64)"
      ]
     },
     "metadata": {},
     "output_type": "display_data"
    }
   ],
   "source": [
    "display(cm_grad)"
   ]
  },
  {
   "cell_type": "code",
   "execution_count": 58,
   "id": "b5f83c3f-257c-4bdb-8d87-c02a4382596f",
   "metadata": {},
   "outputs": [
    {
     "name": "stdout",
     "output_type": "stream",
     "text": [
      "Classification Report\n",
      "              precision    recall  f1-score   support\n",
      "\n",
      "         0.0       1.00      1.00      1.00       635\n",
      "         1.0       1.00      1.00      1.00      2358\n",
      "\n",
      "    accuracy                           1.00      2993\n",
      "   macro avg       1.00      1.00      1.00      2993\n",
      "weighted avg       1.00      1.00      1.00      2993\n",
      "\n"
     ]
    }
   ],
   "source": [
    "# Generate classification report\n",
    "print(\"Classification Report\")\n",
    "print(classification_report(y_test, predictions_grad))"
   ]
  },
  {
   "cell_type": "code",
   "execution_count": 59,
   "id": "0d97b7ea-1d33-4afb-bcd4-1eb037c6f152",
   "metadata": {},
   "outputs": [],
   "source": [
    "from sklearn import tree"
   ]
  },
  {
   "cell_type": "code",
   "execution_count": 60,
   "id": "a4074271-2a0d-4734-8c9a-f3576d08fbca",
   "metadata": {},
   "outputs": [
    {
     "data": {
      "image/png": "[encoded data removed]",
      "text/plain": [
       "<IPython.core.display.Image object>"
      ]
     },
     "execution_count": 60,
     "metadata": {},
     "output_type": "execute_result"
    }
   ],
   "source": [
    " # Graph tree\n",
    "dot_data = tree.export_graphviz(\n",
    "    classifier.estimators_[9, 0],\n",
    "    out_file=None, filled=True,\n",
    "    rounded=True,\n",
    "    special_characters=True,\n",
    "    proportion=True,\n",
    ")\n",
    "graph = pydotplus.graph_from_dot_data(dot_data)\n",
    "Image(graph.create_png())"
   ]
  },
  {
   "cell_type": "code",
   "execution_count": null,
   "id": "179d6111-79b4-4136-a9f9-0873debc5fe8",
   "metadata": {},
   "outputs": [],
   "source": []
  },
  {
   "cell_type": "code",
   "execution_count": 61,
   "id": "45448a09-128b-4562-8bf0-42b31f3f8bbd",
   "metadata": {},
   "outputs": [],
   "source": [
    "#plot PR curves - random forest and Logisitic regression"
   ]
  },
  {
   "cell_type": "code",
   "execution_count": 62,
   "id": "f81ad5ca-eb86-43af-9963-5f7435cb02cb",
   "metadata": {},
   "outputs": [],
   "source": [
    "from sklearn.metrics import precision_recall_curve"
   ]
  },
  {
   "cell_type": "code",
   "execution_count": 63,
   "id": "c2a30fed-b162-43e4-a8b2-91ff1de16a66",
   "metadata": {},
   "outputs": [],
   "source": [
    "import matplotlib.pyplot as plt"
   ]
  },
  {
   "cell_type": "code",
   "execution_count": 64,
   "id": "5c76669d-39cf-40c8-b953-833d6a53c8a6",
   "metadata": {},
   "outputs": [],
   "source": [
    "probs_lr = model_lr.predict_proba(X_test_scaled)[:, 1]\n",
    "probs_rf = rf_model.predict_proba(X_test_scaled)[:, 1]\n",
    "precision_lr, recall_lr, _ = precision_recall_curve(y_test, probs_lr, pos_label=1)\n",
    "precision_rf, recall_rf, _ = precision_recall_curve(y_test, probs_rf, pos_label=1)"
   ]
  },
  {
   "cell_type": "code",
   "execution_count": 65,
   "id": "a888115f-d12d-4ef1-b553-5bb1c6f143f0",
   "metadata": {},
   "outputs": [
    {
     "data": {
      "text/plain": [
       "[<matplotlib.lines.Line2D at 0x21266421bc8>]"
      ]
     },
     "execution_count": 65,
     "metadata": {},
     "output_type": "execute_result"
    },
    {
     "data": {
      "image/png": "[encoded data removed]",
      "text/plain": [
       "<Figure size 432x288 with 1 Axes>"
      ]
     },
     "metadata": {
      "needs_background": "light"
     },
     "output_type": "display_data"
    }
   ],
   "source": [
    "\n",
    "plt.plot(recall_lr, precision_lr, marker='.')\n",
    "plt.plot(recall_rf, precision_rf, marker='x')"
   ]
  },
  {
   "cell_type": "code",
   "execution_count": null,
   "id": "55954812-c0ef-47a6-9298-dd29a9b266f5",
   "metadata": {},
   "outputs": [],
   "source": []
  },
  {
   "cell_type": "code",
   "execution_count": 66,
   "id": "5529d1a5-ad31-4762-ada8-883496fcfc95",
   "metadata": {},
   "outputs": [],
   "source": [
    "#plot PR curves - SVM and Gradient Boosting classifier"
   ]
  },
  {
   "cell_type": "code",
   "execution_count": 67,
   "id": "51581e23-a50f-49b3-bd35-26b44219eacb",
   "metadata": {},
   "outputs": [],
   "source": [
    "probs_svm = svm_model.predict_proba(X_test_scaled)[:, 1]\n",
    "probs_grad = classifier.predict_proba(X_test_scaled)[:, 1]\n",
    "precision_svm, recall_svm, _ = precision_recall_curve(y_test, probs_svm, pos_label=1)\n",
    "precision_grad, recall_grad, _ = precision_recall_curve(y_test, probs_grad, pos_label=1)"
   ]
  },
  {
   "cell_type": "code",
   "execution_count": 68,
   "id": "f0613138-6559-41ed-8005-d4079eb68eec",
   "metadata": {},
   "outputs": [
    {
     "data": {
      "text/plain": [
       "[<matplotlib.lines.Line2D at 0x212664a9a08>]"
      ]
     },
     "execution_count": 68,
     "metadata": {},
     "output_type": "execute_result"
    },
    {
     "data": {
      "image/png": "[encoded data removed]",
      "text/plain": [
       "<Figure size 432x288 with 1 Axes>"
      ]
     },
     "metadata": {
      "needs_background": "light"
     },
     "output_type": "display_data"
    }
   ],
   "source": [
    "\n",
    "plt.plot(recall_svm, precision_svm, marker='.')\n",
    "plt.plot(recall_grad, precision_grad, marker='x')"
   ]
  },
  {
   "cell_type": "markdown",
   "id": "6433754d-6c46-4120-832a-04407ab78d7f",
   "metadata": {},
   "source": []
  }
 ],
 "metadata": {
  "kernelspec": {
   "display_name": "Python 3 (ipykernel)",
   "language": "python",
   "name": "python3"
  },
  "language_info": {
   "codemirror_mode": {
    "name": "ipython",
    "version": 3
   },
   "file_extension": ".py",
   "mimetype": "text/x-python",
   "name": "python",
   "nbconvert_exporter": "python",
   "pygments_lexer": "ipython3",
   "version": "3.7.13"
  }
 },
 "nbformat": 4,
 "nbformat_minor": 5
}
